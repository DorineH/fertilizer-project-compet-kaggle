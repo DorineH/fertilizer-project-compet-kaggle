{
 "cells": [
  {
   "cell_type": "code",
   "execution_count": 1,
   "id": "5f6f8f3c-b89e-44d7-891a-baab755c078c",
   "metadata": {
    "scrolled": true
   },
   "outputs": [
    {
     "name": "stdout",
     "output_type": "stream",
     "text": [
      "(750000, 10)\n",
      "<class 'pandas.core.frame.DataFrame'>\n",
      "RangeIndex: 750000 entries, 0 to 749999\n",
      "Data columns (total 10 columns):\n",
      " #   Column           Non-Null Count   Dtype \n",
      "---  ------           --------------   ----- \n",
      " 0   id               750000 non-null  int64 \n",
      " 1   Temparature      750000 non-null  int64 \n",
      " 2   Humidity         750000 non-null  int64 \n",
      " 3   Moisture         750000 non-null  int64 \n",
      " 4   Soil Type        750000 non-null  object\n",
      " 5   Crop Type        750000 non-null  object\n",
      " 6   Nitrogen         750000 non-null  int64 \n",
      " 7   Potassium        750000 non-null  int64 \n",
      " 8   Phosphorous      750000 non-null  int64 \n",
      " 9   Fertilizer Name  750000 non-null  object\n",
      "dtypes: int64(7), object(3)\n",
      "memory usage: 57.2+ MB\n"
     ]
    },
    {
     "data": {
      "text/html": [
       "<div>\n",
       "<style scoped>\n",
       "    .dataframe tbody tr th:only-of-type {\n",
       "        vertical-align: middle;\n",
       "    }\n",
       "\n",
       "    .dataframe tbody tr th {\n",
       "        vertical-align: top;\n",
       "    }\n",
       "\n",
       "    .dataframe thead th {\n",
       "        text-align: right;\n",
       "    }\n",
       "</style>\n",
       "<table border=\"1\" class=\"dataframe\">\n",
       "  <thead>\n",
       "    <tr style=\"text-align: right;\">\n",
       "      <th></th>\n",
       "      <th>id</th>\n",
       "      <th>Temparature</th>\n",
       "      <th>Humidity</th>\n",
       "      <th>Moisture</th>\n",
       "      <th>Soil Type</th>\n",
       "      <th>Crop Type</th>\n",
       "      <th>Nitrogen</th>\n",
       "      <th>Potassium</th>\n",
       "      <th>Phosphorous</th>\n",
       "      <th>Fertilizer Name</th>\n",
       "    </tr>\n",
       "  </thead>\n",
       "  <tbody>\n",
       "    <tr>\n",
       "      <th>0</th>\n",
       "      <td>0</td>\n",
       "      <td>37</td>\n",
       "      <td>70</td>\n",
       "      <td>36</td>\n",
       "      <td>Clayey</td>\n",
       "      <td>Sugarcane</td>\n",
       "      <td>36</td>\n",
       "      <td>4</td>\n",
       "      <td>5</td>\n",
       "      <td>28-28</td>\n",
       "    </tr>\n",
       "    <tr>\n",
       "      <th>1</th>\n",
       "      <td>1</td>\n",
       "      <td>27</td>\n",
       "      <td>69</td>\n",
       "      <td>65</td>\n",
       "      <td>Sandy</td>\n",
       "      <td>Millets</td>\n",
       "      <td>30</td>\n",
       "      <td>6</td>\n",
       "      <td>18</td>\n",
       "      <td>28-28</td>\n",
       "    </tr>\n",
       "    <tr>\n",
       "      <th>2</th>\n",
       "      <td>2</td>\n",
       "      <td>29</td>\n",
       "      <td>63</td>\n",
       "      <td>32</td>\n",
       "      <td>Sandy</td>\n",
       "      <td>Millets</td>\n",
       "      <td>24</td>\n",
       "      <td>12</td>\n",
       "      <td>16</td>\n",
       "      <td>17-17-17</td>\n",
       "    </tr>\n",
       "    <tr>\n",
       "      <th>3</th>\n",
       "      <td>3</td>\n",
       "      <td>35</td>\n",
       "      <td>62</td>\n",
       "      <td>54</td>\n",
       "      <td>Sandy</td>\n",
       "      <td>Barley</td>\n",
       "      <td>39</td>\n",
       "      <td>12</td>\n",
       "      <td>4</td>\n",
       "      <td>10-26-26</td>\n",
       "    </tr>\n",
       "    <tr>\n",
       "      <th>4</th>\n",
       "      <td>4</td>\n",
       "      <td>35</td>\n",
       "      <td>58</td>\n",
       "      <td>43</td>\n",
       "      <td>Red</td>\n",
       "      <td>Paddy</td>\n",
       "      <td>37</td>\n",
       "      <td>2</td>\n",
       "      <td>16</td>\n",
       "      <td>DAP</td>\n",
       "    </tr>\n",
       "  </tbody>\n",
       "</table>\n",
       "</div>"
      ],
      "text/plain": [
       "   id  Temparature  Humidity  Moisture Soil Type  Crop Type  Nitrogen  \\\n",
       "0   0           37        70        36    Clayey  Sugarcane        36   \n",
       "1   1           27        69        65     Sandy    Millets        30   \n",
       "2   2           29        63        32     Sandy    Millets        24   \n",
       "3   3           35        62        54     Sandy     Barley        39   \n",
       "4   4           35        58        43       Red      Paddy        37   \n",
       "\n",
       "   Potassium  Phosphorous Fertilizer Name  \n",
       "0          4            5           28-28  \n",
       "1          6           18           28-28  \n",
       "2         12           16        17-17-17  \n",
       "3         12            4        10-26-26  \n",
       "4          2           16             DAP  "
      ]
     },
     "metadata": {},
     "output_type": "display_data"
    },
    {
     "data": {
      "text/plain": [
       "None"
      ]
     },
     "metadata": {},
     "output_type": "display_data"
    }
   ],
   "source": [
    "import pandas as pd\n",
    "import numpy as np\n",
    "import matplotlib.pyplot as plt\n",
    "import seaborn as sns\n",
    "\n",
    "# Charger les données\n",
    "train = pd.read_csv('../data/playground-series-s5e6/train.csv')\n",
    "# test  = pd.read_csv('../data/playground-series-s5e6/test.csv')\n",
    "\n",
    "# Aperçu\n",
    "print(train.shape) # , test.shape\n",
    "display(train.head(), train.info())\n"
   ]
  },
  {
   "cell_type": "code",
   "execution_count": 2,
   "id": "cfc5ac01-81d3-4619-b6ee-80398c80b063",
   "metadata": {},
   "outputs": [
    {
     "name": "stdout",
     "output_type": "stream",
     "text": [
      "['id', 'Temparature', 'Humidity', 'Moisture', 'Soil Type', 'Crop Type', 'Nitrogen', 'Potassium', 'Phosphorous', 'Fertilizer Name']\n",
      "['Soil Type', 'Crop Type', 'Fertilizer Name']\n"
     ]
    }
   ],
   "source": [
    "# Affiche la liste de toutes les colonnes\n",
    "print(train.columns.tolist())\n",
    "\n",
    "# Ou mieux, repère toutes les colonnes de type 'object'\n",
    "print(train.select_dtypes(include='object').columns.tolist())"
   ]
  },
  {
   "cell_type": "code",
   "execution_count": 3,
   "id": "b42f5882-c750-49b8-a3fe-b060c16c21b3",
   "metadata": {},
   "outputs": [
    {
     "name": "stdout",
     "output_type": "stream",
     "text": [
      "NaN dans train :\n",
      " Series([], dtype: int64)\n"
     ]
    }
   ],
   "source": [
    "# Nombre de NaN par colonne\n",
    "missing_train = train.isnull().sum()\n",
    "print(\"NaN dans train :\\n\", missing_train[missing_train > 0])\n"
   ]
  },
  {
   "cell_type": "code",
   "execution_count": 4,
   "id": "047d2d2a-2b1d-49e3-befd-88bbccd4f910",
   "metadata": {},
   "outputs": [
    {
     "name": "stdout",
     "output_type": "stream",
     "text": [
      "NaN restants dans train : 0\n"
     ]
    }
   ],
   "source": [
    "from sklearn.impute import SimpleImputer\n",
    "\n",
    "# Sélection des colonnes\n",
    "num_cols = train.select_dtypes(include='number').columns.tolist()\n",
    "cat_cols = train.select_dtypes(include='object').columns.tolist()\n",
    "\n",
    "# Imputers\n",
    "num_imputer = SimpleImputer(strategy='median')\n",
    "cat_imputer = SimpleImputer(strategy='most_frequent')\n",
    "\n",
    "# Appliquer à train ET test\n",
    "# on fait fit sur train, transform sur train ET test pour éviter la fuite de données\n",
    "train[num_cols] = num_imputer.fit_transform(train[num_cols])\n",
    "# test[num_cols]  = num_imputer.transform(test[num_cols])\n",
    "\n",
    "train[cat_cols] = cat_imputer.fit_transform(train[cat_cols])\n",
    "# test[cat_cols]  = cat_imputer.transform(test[cat_cols])\n",
    "\n",
    "# Vérification finale\n",
    "print(\"NaN restants dans train :\", train.isnull().sum().sum())\n",
    "# print(\"NaN restants dans test  :\", test.isnull().sum().sum())"
   ]
  },
  {
   "cell_type": "code",
   "execution_count": 5,
   "id": "d278a29c-5e24-4a2e-9783-18ec571a5efd",
   "metadata": {
    "editable": true,
    "slideshow": {
     "slide_type": ""
    },
    "tags": []
   },
   "outputs": [],
   "source": [
    "from sklearn.pipeline import Pipeline\n",
    "from sklearn.compose import ColumnTransformer\n",
    "from sklearn.preprocessing import OneHotEncoder, StandardScaler\n",
    "from sklearn.impute import SimpleImputer\n",
    "from sklearn.ensemble import RandomForestClassifier\n",
    "\n",
    "# Définir les colonnes de features (exclure id + target)\n",
    "feature_cols = [c for c in train.columns if c not in ['id', 'Fertilizer Name']]\n",
    "\n",
    "# Séparer X et y\n",
    "X_train = train[feature_cols]\n",
    "y_train = train['Fertilizer Name']\n",
    "\n",
    "# Reconstruire num_cols et cat_cols SUR X_train\n",
    "num_cols = X_train.select_dtypes(include='number').columns.tolist()\n",
    "cat_cols = X_train.select_dtypes(include='object').columns.tolist()\n",
    "\n",
    "# Pipelines isolés\n",
    "numeric_pipeline = Pipeline([\n",
    "    ('imputer', SimpleImputer(strategy='median')),\n",
    "    ('scaler',  StandardScaler())\n",
    "])\n",
    "\n",
    "categorical_pipeline = Pipeline([\n",
    "    ('imputer', SimpleImputer(strategy='most_frequent')),\n",
    "    ('encoder', OneHotEncoder(handle_unknown='ignore', sparse_output=False))\n",
    "])\n",
    "\n",
    "# ColumnTransformer sur X_train uniquement\n",
    "preprocessor = ColumnTransformer([\n",
    "    ('num', numeric_pipeline,     num_cols),\n",
    "    ('cat', categorical_pipeline, cat_cols)\n",
    "])\n",
    "\n",
    "# Pipeline global\n",
    "model_pipeline = Pipeline([\n",
    "    ('preproc', preprocessor),\n",
    "    ('clf',     RandomForestClassifier(n_estimators=100, random_state=42))\n",
    "])\n",
    "\n",
    "# Entraînement (silence)\n",
    "model_pipeline = model_pipeline.fit(X_train, y_train)\n"
   ]
  },
  {
   "cell_type": "code",
   "execution_count": 6,
   "id": "fc83f081-fbe9-47a8-959b-6fbdcf9cd7ba",
   "metadata": {
    "editable": true,
    "slideshow": {
     "slide_type": ""
    },
    "tags": []
   },
   "outputs": [
    {
     "name": "stdout",
     "output_type": "stream",
     "text": [
      "Accuracy (top-1) sur le train : 1.000\n"
     ]
    }
   ],
   "source": [
    "acc_train = model_pipeline.score(X_train, y_train)\n",
    "print(f\"Accuracy (top-1) sur le train : {acc_train:.3f}\")\n",
    "\n",
    "# predict_train = model_pipeline.predict_proba(X_train, y_train)"
   ]
  },
  {
   "cell_type": "code",
   "execution_count": 7,
   "id": "87f92a26-f749-4572-9be5-91c2fa8b318c",
   "metadata": {},
   "outputs": [
    {
     "name": "stdout",
     "output_type": "stream",
     "text": [
      "Top-3 prédites pour les 5 premiers exemples :\n",
      "  id=0  ⇒  vrai : 28-28            prédit : ['28-28', '20-20', '14-35-14']\n",
      "  id=1  ⇒  vrai : 28-28            prédit : ['28-28', '10-26-26', 'DAP']\n",
      "  id=2  ⇒  vrai : 17-17-17         prédit : ['17-17-17', '14-35-14', '28-28']\n",
      "  id=3  ⇒  vrai : 10-26-26         prédit : ['10-26-26', '17-17-17', 'Urea']\n",
      "  id=4  ⇒  vrai : DAP              prédit : ['DAP', '28-28', '14-35-14']\n"
     ]
    }
   ],
   "source": [
    "import numpy as np\n",
    "\n",
    "# Probabilités brutes : shape (n_samples, n_classes)\n",
    "proba_train = model_pipeline.predict_proba(X_train)\n",
    "\n",
    "# Index des 3 classes les plus probables\n",
    "top3_idxs = np.argsort(proba_train, axis=1)[:, -3:][:, ::-1]\n",
    "\n",
    "# Noms des engrais dans l’ordre des colonnes du classifieur\n",
    "classes = model_pipeline.named_steps['clf'].classes_\n",
    "\n",
    "# Top-3 sous forme lisible\n",
    "top3_preds = [[classes[idx] for idx in row] for row in top3_idxs]\n",
    "\n",
    "# Affichage\n",
    "print(\"Top-3 prédites pour les 5 premiers exemples :\")\n",
    "for i, preds in enumerate(top3_preds[:5]):\n",
    "    true = y_train.iloc[i]\n",
    "    print(f\"  id={X_train.index[i]}  ⇒  vrai : {true:15s}  prédit : {preds}\")\n"
   ]
  },
  {
   "cell_type": "code",
   "execution_count": null,
   "id": "b672caad-918a-4f33-9869-9c9613880a05",
   "metadata": {},
   "outputs": [],
   "source": []
  }
 ],
 "metadata": {
  "kernelspec": {
   "display_name": "Python 3 (ipykernel)",
   "language": "python",
   "name": "python3"
  },
  "language_info": {
   "codemirror_mode": {
    "name": "ipython",
    "version": 3
   },
   "file_extension": ".py",
   "mimetype": "text/x-python",
   "name": "python",
   "nbconvert_exporter": "python",
   "pygments_lexer": "ipython3",
   "version": "3.9.23"
  }
 },
 "nbformat": 4,
 "nbformat_minor": 5
}
